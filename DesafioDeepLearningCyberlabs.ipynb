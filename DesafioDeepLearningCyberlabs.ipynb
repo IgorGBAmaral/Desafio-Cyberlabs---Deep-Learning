{
  "nbformat": 4,
  "nbformat_minor": 0,
  "metadata": {
    "colab": {
      "name": "DesafioDeepLearningCyberlabs.ipynb",
      "provenance": [],
      "collapsed_sections": []
    },
    "kernelspec": {
      "name": "python3",
      "display_name": "Python 3"
    }
  },
  "cells": [
    {
      "cell_type": "code",
      "metadata": {
        "id": "3ULPausmWOBD",
        "colab_type": "code",
        "colab": {}
      },
      "source": [
        "!pip install --update tensorflow"
      ],
      "execution_count": 0,
      "outputs": []
    },
    {
      "cell_type": "markdown",
      "metadata": {
        "id": "STARDZm-g9Ce",
        "colab_type": "text"
      },
      "source": [
        "# Drive connection\n",
        "\n",
        "https://drive.google.com/open?id=1sJwUVLNkTNI4m6_UfWt727tfpLkmX0n2\n",
        "\n",
        "Dowload to your own drive, copy the folder directory and paste below at required areas"
      ]
    },
    {
      "cell_type": "code",
      "metadata": {
        "id": "TkqrkXBxeSSV",
        "colab_type": "code",
        "colab": {
          "base_uri": "https://localhost:8080/",
          "height": 122
        },
        "outputId": "e0234b58-0c60-444e-fb89-445692300f2f"
      },
      "source": [
        "# Load the Drive helper and mount\n",
        "from google.colab import drive\n",
        "\n",
        "# This will prompt for authorization.\n",
        "drive.mount('/content/drive')"
      ],
      "execution_count": 4,
      "outputs": [
        {
          "output_type": "stream",
          "text": [
            "Go to this URL in a browser: https://accounts.google.com/o/oauth2/auth?client_id=947318989803-6bn6qk8qdgf4n4g3pfee6491hc0brc4i.apps.googleusercontent.com&redirect_uri=urn%3aietf%3awg%3aoauth%3a2.0%3aoob&response_type=code&scope=email%20https%3a%2f%2fwww.googleapis.com%2fauth%2fdocs.test%20https%3a%2f%2fwww.googleapis.com%2fauth%2fdrive%20https%3a%2f%2fwww.googleapis.com%2fauth%2fdrive.photos.readonly%20https%3a%2f%2fwww.googleapis.com%2fauth%2fpeopleapi.readonly\n",
            "\n",
            "Enter your authorization code:\n",
            "··········\n",
            "Mounted at /content/drive\n"
          ],
          "name": "stdout"
        }
      ]
    },
    {
      "cell_type": "code",
      "metadata": {
        "id": "bff5VdwoeSJM",
        "colab_type": "code",
        "colab": {
          "base_uri": "https://localhost:8080/",
          "height": 34
        },
        "outputId": "c7532233-1180-417c-dfb8-b5b34f0fba98"
      },
      "source": [
        "!ls '/content/drive/My Drive/Igor_CyberLabs/Object detection'"
      ],
      "execution_count": 9,
      "outputs": [
        {
          "output_type": "stream",
          "text": [
            "Test  Train\n"
          ],
          "name": "stdout"
        }
      ]
    },
    {
      "cell_type": "markdown",
      "metadata": {
        "id": "CLsRaSwklk6R",
        "colab_type": "text"
      },
      "source": [
        "# Imports + Initializer"
      ]
    },
    {
      "cell_type": "code",
      "metadata": {
        "id": "64Hx-1IZTVwT",
        "colab_type": "code",
        "colab": {}
      },
      "source": [
        "import tensorflow as tf\n",
        "import numpy as np\n",
        "import keras as k\n",
        "from keras.models import Sequential\n",
        "from keras.layers import Conv2D\n",
        "from keras.layers import MaxPooling2D\n",
        "from keras.layers import Flatten\n",
        "from keras.layers import Dense\n",
        "from keras.preprocessing import image\n",
        "from keras.preprocessing.image import ImageDataGenerator"
      ],
      "execution_count": 0,
      "outputs": []
    },
    {
      "cell_type": "code",
      "metadata": {
        "id": "jVA8ZWIGfCkR",
        "colab_type": "code",
        "colab": {}
      },
      "source": [
        "classifier = tf.keras.Sequential()"
      ],
      "execution_count": 0,
      "outputs": []
    },
    {
      "cell_type": "markdown",
      "metadata": {
        "id": "TwyfW24_fMOh",
        "colab_type": "text"
      },
      "source": [
        "# Convolutional Neural Network \n",
        ">2 convolutions followed by a pooling each, for more detailed data from images\n",
        "\n",
        ">Convolution is used to get a feature map matrix from a image scan)\n",
        "\n",
        ">Pooling is used to provide spatial variance, making the system capable of recognize an object as an object when\n",
        "appearence varies in some way\n",
        "\n",
        ">Flattening is used to transform a matrix into a single line vector, for easier processing"
      ]
    },
    {
      "cell_type": "code",
      "metadata": {
        "id": "ZldZ64vefCr3",
        "colab_type": "code",
        "colab": {}
      },
      "source": [
        "classifier.add(tf.keras.layers.Conv2D(32, (3, 3), input_shape=(64, 64, 3), activation='relu'))\n",
        "classifier.add(tf.keras.layers.MaxPooling2D(pool_size=(2, 2)))\n",
        "\n",
        "classifier.add(tf.keras.layers.Conv2D(32, (3, 3), activation='relu'))\n",
        "classifier.add(tf.keras.layers.MaxPooling2D(pool_size=(2, 2)))\n",
        "\n",
        "classifier.add(tf.keras.layers.Flatten())"
      ],
      "execution_count": 0,
      "outputs": []
    },
    {
      "cell_type": "markdown",
      "metadata": {
        "id": "vY0FUeOCfyji",
        "colab_type": "text"
      },
      "source": [
        "# Convolutional layers merge and compile\n",
        ">ReLU is used to return 0 for every negative value in the input image - easier computing, faster convergence\n",
        "and more sparsity, wich means it gets less \"noise\", since 0 is not computed, the neuron is \"deactivated\"\n",
        "\n",
        ">Sigmoid function makes values vary smoothier, thus making images processing faster\n",
        "\n",
        ">Adam is a algorithm for optimization based on estocastic objective functions\n",
        "\n",
        ">Binary crossentropy works well with sigmoide functions, making the final result more accurate"
      ]
    },
    {
      "cell_type": "code",
      "metadata": {
        "id": "6iLNRX83fCyJ",
        "colab_type": "code",
        "colab": {}
      },
      "source": [
        "classifier.add(tf.keras.layers.Dense(units=128, activation='relu'))\n",
        "classifier.add(tf.keras.layers.Dense(units=1, activation='sigmoid'))\n",
        "\n",
        "classifier.compile(optimizer='adam', loss='binary_crossentropy', metrics=['accuracy'])\n"
      ],
      "execution_count": 0,
      "outputs": []
    },
    {
      "cell_type": "markdown",
      "metadata": {
        "id": "_jcqnEEcgUgO",
        "colab_type": "text"
      },
      "source": [
        "# Pre-processing training and validation + Training"
      ]
    },
    {
      "cell_type": "code",
      "metadata": {
        "id": "0Mg8jJZ3fDLN",
        "colab_type": "code",
        "colab": {}
      },
      "source": [
        "train_datagen = ImageDataGenerator(rescale = 1./255,\n",
        "                                   shear_range = 0.2,\n",
        "                                   zoom_range = 0.2,\n",
        "                                   horizontal_flip = True)\n",
        "\n",
        "validation_datagen = ImageDataGenerator(rescale = 1./255)"
      ],
      "execution_count": 0,
      "outputs": []
    },
    {
      "cell_type": "code",
      "metadata": {
        "id": "NFxCwfC-gUpl",
        "colab_type": "code",
        "colab": {}
      },
      "source": [
        "training_set = train_datagen.flow_from_directory('/content/drive/My Drive/Igor_CyberLabs/Object detection/Train',\n",
        "                                                 target_size=(64, 64),\n",
        "                                                 batch_size=32,\n",
        "                                                 class_mode='binary')\n",
        "\n",
        "validation_set = validation_datagen.flow_from_directory('/content/drive/My Drive/Igor_CyberLabs/Object detection/Test',\n",
        "                                                        target_size=(64, 64),\n",
        "                                                        batch_size=32,\n",
        "                                                        class_mode='binary')"
      ],
      "execution_count": 0,
      "outputs": []
    },
    {
      "cell_type": "code",
      "metadata": {
        "id": "ahutWpjhm7CR",
        "colab_type": "code",
        "colab": {
          "base_uri": "https://localhost:8080/",
          "height": 394
        },
        "outputId": "2eab8740-ffdb-46be-d25e-d9f1262760ca"
      },
      "source": [
        "classifier.fit(training_set,\n",
        "               epochs=5,\n",
        "               steps_per_epoch=160,\n",
        "               validation_data=validation_set,\n",
        "               validation_steps=2000)"
      ],
      "execution_count": 25,
      "outputs": [
        {
          "output_type": "stream",
          "text": [
            "Epoch 1/5\n",
            "159/160 [============================>.] - ETA: 0s - loss: 0.3901 - acc: 0.9518Epoch 1/5\n",
            "2000/160 [=======================================================================================================================================================================================================================================================================================================================================================================================] - 297s 148ms/step - loss: 0.6637 - acc: 0.8478\n",
            "160/160 [==============================] - 335s 2s/step - loss: 0.3876 - acc: 0.9521 - val_loss: 0.8361 - val_acc: 0.8478\n",
            "Epoch 2/5\n",
            "159/160 [============================>.] - ETA: 0s - loss: 4.3989e-06 - acc: 1.0000Epoch 1/5\n",
            "2000/160 [=======================================================================================================================================================================================================================================================================================================================================================================================] - 288s 144ms/step - loss: 0.4717 - acc: 0.8696\n",
            "160/160 [==============================] - 327s 2s/step - loss: 4.3880e-06 - acc: 1.0000 - val_loss: 0.8456 - val_acc: 0.8696\n",
            "Epoch 3/5\n",
            "159/160 [============================>.] - ETA: 0s - loss: 2.4002e-06 - acc: 1.0000Epoch 1/5\n",
            "2000/160 [=======================================================================================================================================================================================================================================================================================================================================================================================] - 264s 132ms/step - loss: 0.7214 - acc: 0.8696\n",
            "160/160 [==============================] - 301s 2s/step - loss: 2.3995e-06 - acc: 1.0000 - val_loss: 0.8556 - val_acc: 0.8696\n",
            "Epoch 4/5\n",
            "159/160 [============================>.] - ETA: 0s - loss: 1.5334e-06 - acc: 1.0000Epoch 1/5\n",
            "2000/160 [=======================================================================================================================================================================================================================================================================================================================================================================================] - 263s 131ms/step - loss: 1.0956 - acc: 0.8696\n",
            "160/160 [==============================] - 299s 2s/step - loss: 1.5370e-06 - acc: 1.0000 - val_loss: 0.8904 - val_acc: 0.8696\n",
            "Epoch 5/5\n",
            "159/160 [============================>.] - ETA: 0s - loss: 1.0696e-06 - acc: 1.0000Epoch 1/5\n",
            "2000/160 [=======================================================================================================================================================================================================================================================================================================================================================================================] - 298s 149ms/step - loss: 0.8637 - acc: 0.8696\n",
            "160/160 [==============================] - 336s 2s/step - loss: 1.0691e-06 - acc: 1.0000 - val_loss: 0.9008 - val_acc: 0.8696\n"
          ],
          "name": "stdout"
        },
        {
          "output_type": "execute_result",
          "data": {
            "text/plain": [
              "<tensorflow.python.keras.callbacks.History at 0x7fdce86b0710>"
            ]
          },
          "metadata": {
            "tags": []
          },
          "execution_count": 25
        }
      ]
    },
    {
      "cell_type": "markdown",
      "metadata": {
        "id": "wu7uQBaVjpId",
        "colab_type": "text"
      },
      "source": [
        "# Image check"
      ]
    },
    {
      "cell_type": "code",
      "metadata": {
        "id": "OSYoLd14jpTR",
        "colab_type": "code",
        "colab": {
          "base_uri": "https://localhost:8080/",
          "height": 68
        },
        "outputId": "5d0b12ee-8707-4730-8515-6adf891a4bbb"
      },
      "source": [
        "test_image = image.load_img('/content/drive/My Drive/Igor_CyberLabs/Object detection/Test/Gol Test/5895075.jpg',\n",
        "                            target_size=(64, 64))\n",
        "test_image = image.img_to_array(test_image)\n",
        "test_image = np.expand_dims(test_image, axis=0)\n",
        "\n",
        "result = classifier.predict(test_image)\n",
        "result = round(result[0][0])\n",
        "\n",
        "print(result)\n",
        "print('----------------')\n",
        "\n",
        "# print (training_set.class_indices)\n",
        "\n",
        "if result == 1:\n",
        "    prediction = 'Gol'\n",
        "else:\n",
        "    prediction = 'Azul'\n",
        "\n",
        "print(prediction)"
      ],
      "execution_count": 87,
      "outputs": [
        {
          "output_type": "stream",
          "text": [
            "1.0\n",
            "----------------\n",
            "Gol\n"
          ],
          "name": "stdout"
        }
      ]
    },
    {
      "cell_type": "code",
      "metadata": {
        "id": "Hws5xGhC23IF",
        "colab_type": "code",
        "colab": {}
      },
      "source": [
        ""
      ],
      "execution_count": 0,
      "outputs": []
    }
  ]
}